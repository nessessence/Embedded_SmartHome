{
 "cells": [
  {
   "cell_type": "code",
   "execution_count": null,
   "metadata": {},
   "outputs": [],
   "source": [
    "#!pip install speech_recognition\n",
    "#!pip install PyAudio"
   ]
  },
  {
   "cell_type": "code",
   "execution_count": 1,
   "metadata": {},
   "outputs": [],
   "source": [
    "import speech_recognition as sr"
   ]
  },
  {
   "cell_type": "code",
   "execution_count": 10,
   "metadata": {},
   "outputs": [],
   "source": [
    "def recognize_speech_from_mic(recognizer, microphone):\n",
    "    if not isinstance(recognizer, sr.Recognizer): raise TypeError(\"`recognizer` must be `Recognizer` instance\")\n",
    "    if not isinstance(microphone, sr.Microphone): raise TypeError(\"`microphone` must be `Microphone` instance\")\n",
    "    with microphone as source:\n",
    "        recognizer.adjust_for_ambient_noise(source)\n",
    "        audio = recognizer.listen(source)\n",
    "    response = {\n",
    "        \"success\": True,\n",
    "        \"error\": None,\n",
    "        \"transcription\": None\n",
    "    }\n",
    "    try:\n",
    "        response[\"transcription\"] = recognizer.recognize_google(audio)\n",
    "    except sr.RequestError:\n",
    "        response[\"success\"] = False\n",
    "        response[\"error\"] = \"API unavailable\"\n",
    "    except sr.UnknownValueError:\n",
    "        response[\"error\"] = \"Unable to recognize speech\"\n",
    "    return response"
   ]
  },
  {
   "cell_type": "code",
   "execution_count": 12,
   "metadata": {},
   "outputs": [
    {
     "name": "stdout",
     "output_type": "stream",
     "text": [
      "input sound: test\n"
     ]
    }
   ],
   "source": [
    "r = sr.Recognizer()\n",
    "print(\"input sound: \",end =\"\")\n",
    "m = sr.Microphone()\n",
    "response = recognize_speech_from_mic(r, m)\n",
    "if response[\"success\"] == True : print(response[\"transcription\"])\n",
    "else : print(\"error,\",response[\"error\"])"
   ]
  },
  {
   "cell_type": "code",
   "execution_count": 25,
   "metadata": {},
   "outputs": [
    {
     "name": "stdout",
     "output_type": "stream",
     "text": [
      "turn the green 1\n"
     ]
    }
   ],
   "source": [
    "command = [0,0,0,0] #green orange red blue   -1:turn off/ 0:nothing/ 1:turn on\n",
    "color = [\"green\",\"orange\",\"red\",\"blue\"]\n",
    "sp_text = text[\"transcription\"].split(\" \")\n",
    "if \"on\" in sp_text : x = 1\n",
    "elif \"off\" in sp_text: x = -1\n",
    "else : x = 0\n",
    "for i in range(len(command)):\n",
    "    if color[i] in sp_text: \n",
    "        print(\"turn the\",color[i],x) #just check \n",
    "        command[i] = x \n",
    "## send \"command\" to a http ----> \"get\" by esp8266 -----> send to STM32F4 via some protocol "
   ]
  },
  {
   "cell_type": "code",
   "execution_count": null,
   "metadata": {},
   "outputs": [],
   "source": []
  },
  {
   "cell_type": "code",
   "execution_count": null,
   "metadata": {},
   "outputs": [],
   "source": []
  }
 ],
 "metadata": {
  "kernelspec": {
   "display_name": "Python 3",
   "language": "python",
   "name": "python3"
  },
  "language_info": {
   "codemirror_mode": {
    "name": "ipython",
    "version": 3
   },
   "file_extension": ".py",
   "mimetype": "text/x-python",
   "name": "python",
   "nbconvert_exporter": "python",
   "pygments_lexer": "ipython3",
   "version": "3.7.4"
  }
 },
 "nbformat": 4,
 "nbformat_minor": 2
}
